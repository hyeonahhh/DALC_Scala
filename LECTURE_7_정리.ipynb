{
  "nbformat": 4,
  "nbformat_minor": 0,
  "metadata": {
    "colab": {
      "name": "LECTURE 7 정리.ipynb",
      "provenance": [],
      "collapsed_sections": [],
      "authorship_tag": "ABX9TyPxLb8N+5dMMRDQ3CEiZGG+",
      "include_colab_link": true
    },
    "kernelspec": {
      "name": "python3",
      "display_name": "Python 3"
    },
    "language_info": {
      "name": "python"
    }
  },
  "cells": [
    {
      "cell_type": "markdown",
      "metadata": {
        "id": "view-in-github",
        "colab_type": "text"
      },
      "source": [
        "<a href=\"https://colab.research.google.com/github/hyeonahhh/DALC_Scala/blob/main/LECTURE_7_%EC%A0%95%EB%A6%AC.ipynb\" target=\"_parent\"><img src=\"https://colab.research.google.com/assets/colab-badge.svg\" alt=\"Open In Colab\"/></a>"
      ]
    },
    {
      "cell_type": "code",
      "metadata": {
        "id": "OUENytOqveB0"
      },
      "source": [
        "import seaborn as sns\n",
        "iris = sns.load_dataset('iris')\n",
        "iris.head()"
      ],
      "execution_count": null,
      "outputs": []
    },
    {
      "cell_type": "code",
      "metadata": {
        "id": "a7jSbfG5vyOL"
      },
      "source": [
        "import matplotlib.pyplot as plt\n",
        "import numpy as np\n",
        "\n",
        "mg = np.random.RandomState(42)\n",
        "x = 10 * mg.rand(50)\n",
        "y = 2 * x - 1 + mg.rand(50)\n",
        "plt.scatter(x,y);"
      ],
      "execution_count": null,
      "outputs": []
    },
    {
      "cell_type": "code",
      "metadata": {
        "id": "wU-tfb1hv0NC"
      },
      "source": [
        "from sklearn.linear_model import LinearRegression\n",
        "model = LinearRegression(fit_intercept = True)"
      ],
      "execution_count": null,
      "outputs": []
    },
    {
      "cell_type": "code",
      "metadata": {
        "id": "n7_PZk9kv4ak"
      },
      "source": [
        "X = x[:, np.newaxis]\n",
        "X.shape\n",
        "\n",
        "X = x.reshape(50,1)\n",
        "X.shape"
      ],
      "execution_count": null,
      "outputs": []
    },
    {
      "cell_type": "code",
      "metadata": {
        "id": "lcePx0S1v7BI"
      },
      "source": [
        "model.fit(X,y)\n",
        "\n",
        "print(model.coef_)\n",
        "print(model.intercept_)"
      ],
      "execution_count": null,
      "outputs": []
    },
    {
      "cell_type": "code",
      "metadata": {
        "id": "VvKnDkYuv9RC"
      },
      "source": [
        "model.score(X,y)\n",
        "\n",
        "xfit = np.linspace(-1,11)\n",
        "plt.scatter(x,y)\n",
        "plt.plot(xfit, model.coef_ * xfit + model.intercept_, '-r');"
      ],
      "execution_count": null,
      "outputs": []
    },
    {
      "cell_type": "code",
      "metadata": {
        "id": "SbJPoxXjv_l7"
      },
      "source": [
        "from sklearn.preprocessing import PolynomialFeatures\n",
        "from sklearn.linear_model import LinearRegression\n",
        "from sklearn.pipeline import make_pipeline\n",
        "\n",
        "def PolynomialRegression(degree=2, **kwargs):\n",
        "  return make_pipeline(PolynomialFeatures(degree), LinearRegression(**kwargs))"
      ],
      "execution_count": null,
      "outputs": []
    },
    {
      "cell_type": "code",
      "metadata": {
        "id": "lYfwWIZ3wByG"
      },
      "source": [
        "import numpy as np\n",
        "\n",
        "def make_data(N, err=1.0, rseed=1):\n",
        "  rng = np.random.RandomState(rseed)\n",
        "  X = rng.rand(N) **2\n",
        "  y = 10-1./(X+0.1)\n",
        "  if err > 0:\n",
        "    y += err * rng.rand(N)\n",
        "    return X, y\n",
        "\n",
        "  X,y = make_data(40)"
      ],
      "execution_count": null,
      "outputs": []
    },
    {
      "cell_type": "code",
      "metadata": {
        "id": "Mh_RombBwEB3"
      },
      "source": [
        "%matplotlib inline\n",
        "import matplotlib.pyplot as plt\n",
        "import seaborn; \n",
        "seaborn.set()\n",
        "\n",
        "X_test = np.linspace(-0.1,1.1,500)\n",
        "plt.scatter(X,y,color='black')\n",
        "axix=plt.axis()"
      ],
      "execution_count": null,
      "outputs": []
    },
    {
      "cell_type": "code",
      "metadata": {
        "id": "cQqhf-NQwG0o"
      },
      "source": [
        "plt.scatter(X,y,color='black')\n",
        "\n",
        "for degree in [1,2,3]:\n",
        "  model = PolynomialRegression(degree)\n",
        "  model.fit(X[:,np.newaxis],y)\n",
        "  y_test = model.predict(X_test[:,np.newaxis])\n",
        "  plt.plot(X_test,y_test,label=f'Degree={degree}')\n",
        "\n",
        "plt.axis([-0.1,1.0,-2,12])\n",
        "plt.legend(loc='best')"
      ],
      "execution_count": null,
      "outputs": []
    },
    {
      "cell_type": "code",
      "metadata": {
        "id": "CAMKCH5KwKCE"
      },
      "source": [
        "from sklearn.model_selection import validation_curve\n",
        "degree = np.arange(1,10)\n",
        "\n",
        "train_score, val_score = validataion_curve(PolynomialRegression(),\n",
        "                                           X[:,np.newaxis],y,'polynomialfeatures__degree',degree,cv=7)\n",
        "plt.plot(degree,np.median(train_score,1),color='blue',label='training score')\n",
        "plt.plot(degree,np.median(val_score,1),color='red',label='validation score')\n",
        "plt.legend(loc='best')\n",
        "plt.ylim(0,1)\n",
        "plt.xlabel('degree');"
      ],
      "execution_count": null,
      "outputs": []
    }
  ]
}