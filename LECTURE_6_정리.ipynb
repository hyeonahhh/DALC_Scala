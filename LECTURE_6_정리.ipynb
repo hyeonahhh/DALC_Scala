{
  "nbformat": 4,
  "nbformat_minor": 0,
  "metadata": {
    "colab": {
      "name": "LECTURE 6 정리.ipynb",
      "provenance": [],
      "authorship_tag": "ABX9TyOM+ZWyyYdYkWDofRePJalL",
      "include_colab_link": true
    },
    "kernelspec": {
      "name": "python3",
      "display_name": "Python 3"
    },
    "language_info": {
      "name": "python"
    }
  },
  "cells": [
    {
      "cell_type": "markdown",
      "metadata": {
        "id": "view-in-github",
        "colab_type": "text"
      },
      "source": [
        "<a href=\"https://colab.research.google.com/github/hyeonahhh/DALC_Scala/blob/main/LECTURE_6_%EC%A0%95%EB%A6%AC.ipynb\" target=\"_parent\"><img src=\"https://colab.research.google.com/assets/colab-badge.svg\" alt=\"Open In Colab\"/></a>"
      ]
    },
    {
      "cell_type": "markdown",
      "metadata": {
        "id": "GGPyt0dUbnst"
      },
      "source": [
        "* 지도 학습과 비지도 학습으로 나뉨\n",
        "* 전자는 데이터의 측정된 특징과 데이터와 관련된 레이블 사이의 관례를 모델링하는 것\n",
        "* 후자는 레이블을 참조하지 않고 데이터세트의 특징을 모델링하는 것"
      ]
    },
    {
      "cell_type": "markdown",
      "metadata": {
        "id": "WPuxumwFc6O7"
      },
      "source": [
        "* 데이터의 레이블이 있는 경우 지도학습이라고 하고 그렇지 않은 경우 비지도 학습이라고 함\n",
        "* 지도학습 중에서 레이블이 연속적인 수치인 경우 회귀 문제"
      ]
    },
    {
      "cell_type": "markdown",
      "metadata": {
        "id": "bxifEaQkeGrU"
      },
      "source": [
        "<Scikit Learn API 사용 단계>\n",
        "1. Scikit Learn API에서 적절한 추정기 클래스를 임포트해서 사용하고자 하는 모델을 선택한다.\n",
        "2. 클래스로부터 인스턴스를 생성하고 초모수(Hyper-parameter)를 설정한다.\n",
        "3. 데이터를 특징 배열과 대상 배열로 준비한다.\n",
        "4. 모델 인스턴스의 fit()메소드를 호출해서 데이터를 학습한다.\n",
        "5. 정확도를 확인하고 새로운 데이터에 모델을 적용한다.\n"
      ]
    },
    {
      "cell_type": "code",
      "metadata": {
        "id": "oFv-OIcdg0-C"
      },
      "source": [
        "//회귀 분석 과정\n",
        "//모델 클래스 선택\n",
        "from sklearn.linear_model import LinearRegression\n",
        "//모델 초모수 선택\n",
        "model = LinearRegression(fit_intercept=True)\n",
        "//데이터 차원 변경\n",
        "X=x[:, np.newaxis]\n",
        "X.shape\n",
        "X=x.reshape(50, 1)\n",
        "X.shape\n",
        "//모델에 데이터 적용\n",
        "model.fit(X, y)\n",
        "//모델 확인\n",
        "print(model.coef_)\n",
        "print(model.intercept_)\n",
        "//모델 정확도 확인\n",
        "model.score(X, y)\n",
        "//모델 시각화\n",
        "xfit = np.linsapce(-1, 11)\n",
        "plt.scatter(x, y)\n",
        "plt.plot(xfit, model.coef_ *xfit + model.intercept_, '-r');"
      ],
      "execution_count": null,
      "outputs": []
    }
  ]
}