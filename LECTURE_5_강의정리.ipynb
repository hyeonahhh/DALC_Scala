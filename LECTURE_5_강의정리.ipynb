{
  "nbformat": 4,
  "nbformat_minor": 0,
  "metadata": {
    "colab": {
      "name": "LECTURE 5 강의정리.ipynb",
      "provenance": [],
      "collapsed_sections": [],
      "authorship_tag": "ABX9TyNvLv08i9hRlIFkehuiXcbf",
      "include_colab_link": true
    },
    "kernelspec": {
      "name": "python3",
      "display_name": "Python 3"
    },
    "language_info": {
      "name": "python"
    }
  },
  "cells": [
    {
      "cell_type": "markdown",
      "metadata": {
        "id": "view-in-github",
        "colab_type": "text"
      },
      "source": [
        "<a href=\"https://colab.research.google.com/github/hyeonahhh/DALC_Scala/blob/main/LECTURE_5_%EA%B0%95%EC%9D%98%EC%A0%95%EB%A6%AC.ipynb\" target=\"_parent\"><img src=\"https://colab.research.google.com/assets/colab-badge.svg\" alt=\"Open In Colab\"/></a>"
      ]
    },
    {
      "cell_type": "code",
      "metadata": {
        "id": "iAlbPo-ypuTF"
      },
      "source": [
        "rc = pd.read_csv(\"/content/drive/My Drive/일별평균대기오염도_2018_중구.csv\", header=None, encoding='euc-kr')"
      ],
      "execution_count": null,
      "outputs": []
    },
    {
      "cell_type": "code",
      "metadata": {
        "id": "M0ARqAnkqQm9"
      },
      "source": [
        "print(rc.head())\n",
        "prnt('\\n')\n",
        "print(rc.tail())"
      ],
      "execution_count": null,
      "outputs": []
    },
    {
      "cell_type": "code",
      "metadata": {
        "id": "eZT3TXdwqecV"
      },
      "source": [
        "print(rc.shape())"
      ],
      "execution_count": null,
      "outputs": []
    },
    {
      "cell_type": "code",
      "metadata": {
        "id": "vgDKmRksqgLg"
      },
      "source": [
        "print(rc.info())"
      ],
      "execution_count": null,
      "outputs": []
    },
    {
      "cell_type": "code",
      "metadata": {
        "id": "iq4FmJJwqiwS"
      },
      "source": [
        "print(rc.dtypes)"
      ],
      "execution_count": null,
      "outputs": []
    },
    {
      "cell_type": "code",
      "metadata": {
        "id": "uiOLGnd1qq1u"
      },
      "source": [
        "print(rc.describe())"
      ],
      "execution_count": null,
      "outputs": []
    },
    {
      "cell_type": "code",
      "metadata": {
        "id": "-eKaVy2pqwNm"
      },
      "source": [
        "print(rc['초미세먼지'].value_counts())"
      ],
      "execution_count": null,
      "outputs": []
    },
    {
      "cell_type": "code",
      "metadata": {
        "id": "2xtD0NROq4gB"
      },
      "source": [
        "print(rc.mean())"
      ],
      "execution_count": null,
      "outputs": []
    },
    {
      "cell_type": "code",
      "metadata": {
        "id": "yRXGkWw1rFT7"
      },
      "source": [
        "import matplotlib as mpl\n",
        "import matplotlib.pyplot as plt\n",
        "import matplotlib.font_manager as fm"
      ],
      "execution_count": null,
      "outputs": []
    },
    {
      "cell_type": "code",
      "metadata": {
        "id": "a82hqQfZraJb"
      },
      "source": [
        "b_data = data.iloc[0:30, 5:]\n",
        "b_data.plot(kind='bar')"
      ],
      "execution_count": null,
      "outputs": []
    },
    {
      "cell_type": "markdown",
      "metadata": {
        "id": "m5xvVmJ9sHGk"
      },
      "source": [
        ""
      ]
    },
    {
      "cell_type": "code",
      "metadata": {
        "id": "usTpXsR_rjZJ"
      },
      "source": [
        "data.plot(x='미세먼지', y='초미세먼지', kind='scatter')"
      ],
      "execution_count": null,
      "outputs": []
    },
    {
      "cell_type": "markdown",
      "metadata": {
        "id": "9Iq_t1xCsIxm"
      },
      "source": [
        "---4주----"
      ]
    },
    {
      "cell_type": "code",
      "metadata": {
        "id": "Cmk8__C8sKpx"
      },
      "source": [
        "matplotlib의 축약어는 mpl로 자주 사용하는 matplotlib.pyplot은 plt라는 축약어를 사용합니다."
      ],
      "execution_count": null,
      "outputs": []
    },
    {
      "cell_type": "code",
      "metadata": {
        "id": "WemvjXHLsPFR"
      },
      "source": [
        "그림을 저장하기 위해 savefig() 명령을 사용하면 되고 파일의 포맷은 확장자로 설정할 수 있습니다."
      ],
      "execution_count": null,
      "outputs": []
    },
    {
      "cell_type": "markdown",
      "metadata": {
        "id": "KtJozvGGsSVi"
      },
      "source": [
        "구글 코랩의 파일 처리를 위한 라이브러리를 불러오기한 이후에 files.download('파일명')과 같이 입력하면 됩니다."
      ]
    },
    {
      "cell_type": "markdown",
      "metadata": {
        "id": "9RJwdrNUsS5z"
      },
      "source": [
        "현재 그림을 참조하기 위해 plt.gcf() (get current figure) 명령어를 사용하고 현재 축을 참조하기 위해 plt.gca() (get current axes)를 사용합니다."
      ]
    }
  ]
}