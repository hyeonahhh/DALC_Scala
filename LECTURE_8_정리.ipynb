{
  "nbformat": 4,
  "nbformat_minor": 0,
  "metadata": {
    "colab": {
      "name": "LECTURE 8 정리.ipynb",
      "provenance": [],
      "collapsed_sections": [],
      "authorship_tag": "ABX9TyORej06l943gLqWxKIYWlFB",
      "include_colab_link": true
    },
    "kernelspec": {
      "name": "python3",
      "display_name": "Python 3"
    },
    "language_info": {
      "name": "python"
    }
  },
  "cells": [
    {
      "cell_type": "markdown",
      "metadata": {
        "id": "view-in-github",
        "colab_type": "text"
      },
      "source": [
        "<a href=\"https://colab.research.google.com/github/hyeonahhh/DALC_Scala/blob/main/LECTURE_8_%EC%A0%95%EB%A6%AC.ipynb\" target=\"_parent\"><img src=\"https://colab.research.google.com/assets/colab-badge.svg\" alt=\"Open In Colab\"/></a>"
      ]
    },
    {
      "cell_type": "code",
      "metadata": {
        "id": "luzEfQJdoT5h"
      },
      "source": [
        "import seaborn as sns\n",
        "iris = sns.load_dataset('iris')\n",
        "iris.head(4)"
      ],
      "execution_count": null,
      "outputs": []
    },
    {
      "cell_type": "code",
      "metadata": {
        "id": "DLX4Bl7fom1l"
      },
      "source": [
        "from sklearn.naive_bayes import GaussianNB\n",
        "model = GaussianNB()\n",
        "\n",
        "from sklearn.model_selection import train_test_split\n",
        "Xtrain, Xtest, ytrain, ytest = train_test_split(X_iris, y_iris, test_size=0.25, random_state = 1)\n",
        "\n",
        "model.fit(Xtrain,ytrain)\n",
        "y_model = model.predict(Xtest)\n",
        "\n",
        "from sklearn.metrics import accuracy_score\n",
        "accuracy_score(ytest, y_model);"
      ],
      "execution_count": null,
      "outputs": []
    },
    {
      "cell_type": "code",
      "metadata": {
        "id": "jTsa74g1oqA_"
      },
      "source": [
        "from sklearn.neighbors import KNeighborsClassifier\n",
        "model = KNeighborsClassifier(n_neighbors=1)\n",
        "\n",
        "from sklearn.datasets import load_iris\n",
        "iris = load_iris()\n",
        "X = iris.data\n",
        "y = iris.target\n",
        "\n",
        "model.fit(X,y)\n",
        "\n",
        "from sklearn.metrics import accuracy_score\n",
        "y_model = model.predict(X)\n",
        "accuracy_score(y,y_model)"
      ],
      "execution_count": null,
      "outputs": []
    },
    {
      "cell_type": "code",
      "metadata": {
        "id": "qfNhO6dVor6F"
      },
      "source": [
        "from sklearn.model_selection import train_test_split\n",
        "X1,X2,y1,y2 = train_test_split(X,y,random_state=0,train_size=0.5)\n",
        "\n",
        "model.fit(X1, y1)\n",
        "\n",
        "y2_model = model.predict(X2)\n",
        "accuracy_score(y2,y2_model)"
      ],
      "execution_count": null,
      "outputs": []
    },
    {
      "cell_type": "code",
      "metadata": {
        "id": "E8ByrNeeotyf"
      },
      "source": [
        "#2겹 교차 검증\n",
        "y1_model = model.fit(X1,y1).predict(X2)\n",
        "y2_model = model.fit(X2,y2).predixt(X1)\n",
        "score1 = accuracy_score(y1,y1_model)\n",
        "score2 = accuracy_score(y2,y2_model)\n",
        "score = (score1 + score2) / 2\n",
        "print(score)\n",
        "\n",
        "from sklearn.model_selection import cross_val_score\n",
        "cross_val_score(model,X,y,cv=5).mean()"
      ],
      "execution_count": null,
      "outputs": []
    },
    {
      "cell_type": "code",
      "metadata": {
        "id": "xjBW705TowNP"
      },
      "source": [
        "from sklearn.model_selection import LeaveOneOut\n",
        "scores = cross_val_score(model,X,y,cv = LeaveOneOut())\n",
        "scores.mean()"
      ],
      "execution_count": null,
      "outputs": []
    },
    {
      "cell_type": "code",
      "metadata": {
        "id": "tL7Umjk5oyDa"
      },
      "source": [
        "from sklearn.naive_bayes import GaussianNB\n",
        "model = GaussianNB()\n",
        "model.fit(X,y)\n",
        "\n",
        "rng = np.random.RandomState(0)\n",
        "Xnew = [-6,-14] + [14,18] * rng.rand(2000,2)\n",
        "ynew = model.predict(Xnew)"
      ],
      "execution_count": null,
      "outputs": []
    },
    {
      "cell_type": "code",
      "metadata": {
        "id": "MK5GqYM2o1cn"
      },
      "source": [
        "plt.scatter(X[:,0],X[:,1],c=y,s=50,cmap='RdBu')\n",
        "lim = plt.axis()\n",
        "plt.scatter(Xnew[:,0],Xnew[:,1],c=ynew,s=10,cmap='RdBu',alpha=0.2)\n",
        "plt.axis(lim);"
      ],
      "execution_count": null,
      "outputs": []
    },
    {
      "cell_type": "code",
      "metadata": {
        "id": "SQK7E2TJo3UP"
      },
      "source": [
        "ybrob = model.predict_proba(Xnew)\n",
        "yprob[-8:].round(2)"
      ],
      "execution_count": null,
      "outputs": []
    }
  ]
}